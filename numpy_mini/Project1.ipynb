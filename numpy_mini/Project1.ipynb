{
  "nbformat": 4,
  "nbformat_minor": 0,
  "metadata": {
    "colab": {
      "provenance": []
    },
    "kernelspec": {
      "name": "python3",
      "display_name": "Python 3"
    },
    "language_info": {
      "name": "python"
    }
  },
  "cells": [
    {
      "cell_type": "markdown",
      "source": [
        "# **Data** **Creation** to store the student_marks_data\n",
        "For students name - 1D array\n",
        "for students subjects - 1D array\n",
        "For students marks - 2D array (because one student has his marks in various subjects, need to store in table format so go for 2D) and (We can create a 2d array but in that what happens is as array stores homogenous elements in it, it will convert all datatypes to similar datatype having the highest priority so it is efficient go with this idea)\n",
        "\n",
        "[7]\n"
      ],
      "metadata": {
        "id": "mvDprIkTbJSa"
      }
    },
    {
      "cell_type": "markdown",
      "source": [
        "# **Data Creation**"
      ],
      "metadata": {
        "id": "qpkkP4h_aYhM"
      }
    },
    {
      "cell_type": "code",
      "source": [
        "import numpy as np"
      ],
      "metadata": {
        "id": "IU8DJ8EubN1a"
      },
      "execution_count": 17,
      "outputs": []
    },
    {
      "cell_type": "code",
      "source": [
        "np.random.seed(42)\n",
        "marks = np.random.randint(35, 101, size=(8, 5))\n",
        "marks"
      ],
      "metadata": {
        "colab": {
          "base_uri": "https://localhost:8080/"
        },
        "id": "so6zVkchbhI5",
        "outputId": "6dcc0a78-6f97-4fb2-ed19-89c4429ae833"
      },
      "execution_count": 18,
      "outputs": [
        {
          "output_type": "execute_result",
          "data": {
            "text/plain": [
              "array([[86, 49, 95, 55, 58],\n",
              "       [37, 56, 87, 36, 64],\n",
              "       [72, 36, 98, 94, 55],\n",
              "       [67, 92, 56, 83, 93],\n",
              "       [76, 94, 49, 96, 96],\n",
              "       [81, 96, 85, 89, 98],\n",
              "       [37, 85, 41, 55, 73],\n",
              "       [52, 38, 94, 48, 43]])"
            ]
          },
          "metadata": {},
          "execution_count": 18
        }
      ]
    },
    {
      "cell_type": "markdown",
      "source": [
        "# **Data Exploration**"
      ],
      "metadata": {
        "id": "xbrvnPaQao78"
      }
    },
    {
      "cell_type": "code",
      "source": [
        "marks.ndim"
      ],
      "metadata": {
        "colab": {
          "base_uri": "https://localhost:8080/"
        },
        "id": "oJkskwgBbrkB",
        "outputId": "72e1c3e4-c5ba-4aab-b267-03031a0d9e1d"
      },
      "execution_count": 19,
      "outputs": [
        {
          "output_type": "execute_result",
          "data": {
            "text/plain": [
              "2"
            ]
          },
          "metadata": {},
          "execution_count": 19
        }
      ]
    },
    {
      "cell_type": "code",
      "source": [
        "marks.size"
      ],
      "metadata": {
        "colab": {
          "base_uri": "https://localhost:8080/"
        },
        "id": "fQRA7216bvb9",
        "outputId": "4188daf4-f682-44f7-f57b-5f0f0b385c08"
      },
      "execution_count": 20,
      "outputs": [
        {
          "output_type": "execute_result",
          "data": {
            "text/plain": [
              "40"
            ]
          },
          "metadata": {},
          "execution_count": 20
        }
      ]
    },
    {
      "cell_type": "code",
      "source": [
        "marks.reshape\n",
        "marks"
      ],
      "metadata": {
        "colab": {
          "base_uri": "https://localhost:8080/"
        },
        "id": "lt-6qCggbxvi",
        "outputId": "9b9b30a1-c971-437d-cbbf-7f5630d28ad5"
      },
      "execution_count": 21,
      "outputs": [
        {
          "output_type": "execute_result",
          "data": {
            "text/plain": [
              "array([[86, 49, 95, 55, 58],\n",
              "       [37, 56, 87, 36, 64],\n",
              "       [72, 36, 98, 94, 55],\n",
              "       [67, 92, 56, 83, 93],\n",
              "       [76, 94, 49, 96, 96],\n",
              "       [81, 96, 85, 89, 98],\n",
              "       [37, 85, 41, 55, 73],\n",
              "       [52, 38, 94, 48, 43]])"
            ]
          },
          "metadata": {},
          "execution_count": 21
        }
      ]
    },
    {
      "cell_type": "code",
      "source": [
        "marks.dtype"
      ],
      "metadata": {
        "id": "Kb30nr2gcuOm",
        "colab": {
          "base_uri": "https://localhost:8080/"
        },
        "outputId": "4a3185ea-1e73-4366-d895-73313e6f963e"
      },
      "execution_count": 22,
      "outputs": [
        {
          "output_type": "execute_result",
          "data": {
            "text/plain": [
              "dtype('int64')"
            ]
          },
          "metadata": {},
          "execution_count": 22
        }
      ]
    },
    {
      "cell_type": "markdown",
      "source": [
        "# **Data Transformation**"
      ],
      "metadata": {
        "id": "pkqturWLbcaM"
      }
    },
    {
      "cell_type": "code",
      "source": [
        "# Transpose to get subjects as rows\n",
        "marks_T = marks.T\n",
        "print(\"Transposed Marks:\\n\", marks_T)\n",
        "\n",
        "# Flatten marks into 1D array\n",
        "marks_flat = marks.flatten()\n",
        "print(\"Flattened Marks:\", marks_flat)\n"
      ],
      "metadata": {
        "colab": {
          "base_uri": "https://localhost:8080/"
        },
        "id": "iPX6eBgvbZRQ",
        "outputId": "09a68a2d-887e-4ce2-9022-2b2fa4d51d4f"
      },
      "execution_count": 23,
      "outputs": [
        {
          "output_type": "stream",
          "name": "stdout",
          "text": [
            "Transposed Marks:\n",
            " [[86 37 72 67 76 81 37 52]\n",
            " [49 56 36 92 94 96 85 38]\n",
            " [95 87 98 56 49 85 41 94]\n",
            " [55 36 94 83 96 89 55 48]\n",
            " [58 64 55 93 96 98 73 43]]\n",
            "Flattened Marks: [86 49 95 55 58 37 56 87 36 64 72 36 98 94 55 67 92 56 83 93 76 94 49 96\n",
            " 96 81 96 85 89 98 37 85 41 55 73 52 38 94 48 43]\n"
          ]
        }
      ]
    },
    {
      "cell_type": "markdown",
      "source": [
        "# **Data Combination**"
      ],
      "metadata": {
        "id": "nZtB6kPEbrsV"
      }
    },
    {
      "cell_type": "code",
      "source": [
        "# Adding a new student\n",
        "new_student_marks = np.array([[88, 82, 79, np.random.randint(35, 101), np.random.randint(35, 101)]]) # Added two more random values\n",
        "marks_updated = np.vstack([marks, new_student_marks])\n",
        "print(\"Marks after adding a new student:\\n\", marks_updated)\n",
        "\n",
        "# Adding a new subject (column)\n",
        "# new_subject_marks = np.array([[80], [90], [85], [75], [88]]) # Original new_subject_marks\n",
        "new_subject_marks = np.random.randint(35, 101, size=(marks_updated.shape[0], 1)) # Generate random marks for the new subject with correct number of rows\n",
        "marks_updated = np.hstack([marks_updated, new_subject_marks])\n",
        "print(\"Marks after adding a new subject:\\n\", marks_updated)"
      ],
      "metadata": {
        "colab": {
          "base_uri": "https://localhost:8080/"
        },
        "id": "7qLSRqpDbn62",
        "outputId": "08c2e7cc-62d1-4439-fce1-c3f5ed54313f"
      },
      "execution_count": 26,
      "outputs": [
        {
          "output_type": "stream",
          "name": "stdout",
          "text": [
            "Marks after adding a new student:\n",
            " [[86 49 95 55 58]\n",
            " [37 56 87 36 64]\n",
            " [72 36 98 94 55]\n",
            " [67 92 56 83 93]\n",
            " [76 94 49 96 96]\n",
            " [81 96 85 89 98]\n",
            " [37 85 41 55 73]\n",
            " [52 38 94 48 43]\n",
            " [88 82 79 87 36]]\n",
            "Marks after adding a new subject:\n",
            " [[86 49 95 55 58 94]\n",
            " [37 56 87 36 64 78]\n",
            " [72 36 98 94 55 42]\n",
            " [67 92 56 83 93 81]\n",
            " [76 94 49 96 96 69]\n",
            " [81 96 85 89 98 70]\n",
            " [37 85 41 55 73 84]\n",
            " [52 38 94 48 43 38]\n",
            " [88 82 79 87 36 36]]\n"
          ]
        }
      ]
    },
    {
      "cell_type": "markdown",
      "source": [
        "# **Data Modification**"
      ],
      "metadata": {
        "id": "8nKweZIVcq_k"
      }
    },
    {
      "cell_type": "code",
      "source": [
        "# Update Alice's Math marks\n",
        "marks_updated[0, 0] = 95\n",
        "\n",
        "# Remove last subject\n",
        "marks_without_last = np.delete(marks_updated, -1, axis=1)\n",
        "\n",
        "# Unique marks\n",
        "unique_marks = np.unique(marks_updated)\n",
        "print(\"Unique Marks:\", unique_marks)\n"
      ],
      "metadata": {
        "colab": {
          "base_uri": "https://localhost:8080/"
        },
        "id": "XNuyY8nYczZi",
        "outputId": "202f588b-5458-48b6-c087-bd525c38b653"
      },
      "execution_count": 27,
      "outputs": [
        {
          "output_type": "stream",
          "name": "stdout",
          "text": [
            "Unique Marks: [36 37 38 41 42 43 48 49 52 55 56 58 64 67 69 70 72 73 76 78 79 81 82 83\n",
            " 84 85 87 88 89 92 93 94 95 96 98]\n"
          ]
        }
      ]
    },
    {
      "cell_type": "markdown",
      "source": [
        "# **Data Type Handling**"
      ],
      "metadata": {
        "id": "arRRawMYc4Ee"
      }
    },
    {
      "cell_type": "code",
      "source": [
        "# Convert marks to float\n",
        "marks_float = marks_updated.astype(float)\n",
        "print(\"Marks as float:\\n\", marks_float)\n"
      ],
      "metadata": {
        "colab": {
          "base_uri": "https://localhost:8080/"
        },
        "id": "dZMm_bgmc8Nh",
        "outputId": "e4bc88bf-a599-4869-c9bd-1c0f1060259f"
      },
      "execution_count": 28,
      "outputs": [
        {
          "output_type": "stream",
          "name": "stdout",
          "text": [
            "Marks as float:\n",
            " [[95. 49. 95. 55. 58. 94.]\n",
            " [37. 56. 87. 36. 64. 78.]\n",
            " [72. 36. 98. 94. 55. 42.]\n",
            " [67. 92. 56. 83. 93. 81.]\n",
            " [76. 94. 49. 96. 96. 69.]\n",
            " [81. 96. 85. 89. 98. 70.]\n",
            " [37. 85. 41. 55. 73. 84.]\n",
            " [52. 38. 94. 48. 43. 38.]\n",
            " [88. 82. 79. 87. 36. 36.]]\n"
          ]
        }
      ]
    },
    {
      "cell_type": "markdown",
      "source": [
        "# **COPY vs VIEW**"
      ],
      "metadata": {
        "id": "fv3Py5_wdAok"
      }
    },
    {
      "cell_type": "code",
      "source": [
        "# View (changes affect original)\n",
        "marks_view = marks_updated.view()\n",
        "marks_view[0, 0] = 100\n",
        "print(\"Original after view modification:\\n\", marks_updated)\n",
        "\n",
        "# Copy (changes do NOT affect original)\n",
        "marks_copy = marks_updated.copy()\n",
        "marks_copy[0, 0] = 50\n",
        "print(\"Original after copy modification:\\n\", marks_updated)\n"
      ],
      "metadata": {
        "colab": {
          "base_uri": "https://localhost:8080/"
        },
        "id": "N5yxpSKtdAVd",
        "outputId": "ec69fed5-d1a7-4181-bc45-7da09fe495ae"
      },
      "execution_count": 29,
      "outputs": [
        {
          "output_type": "stream",
          "name": "stdout",
          "text": [
            "Original after view modification:\n",
            " [[100  49  95  55  58  94]\n",
            " [ 37  56  87  36  64  78]\n",
            " [ 72  36  98  94  55  42]\n",
            " [ 67  92  56  83  93  81]\n",
            " [ 76  94  49  96  96  69]\n",
            " [ 81  96  85  89  98  70]\n",
            " [ 37  85  41  55  73  84]\n",
            " [ 52  38  94  48  43  38]\n",
            " [ 88  82  79  87  36  36]]\n",
            "Original after copy modification:\n",
            " [[100  49  95  55  58  94]\n",
            " [ 37  56  87  36  64  78]\n",
            " [ 72  36  98  94  55  42]\n",
            " [ 67  92  56  83  93  81]\n",
            " [ 76  94  49  96  96  69]\n",
            " [ 81  96  85  89  98  70]\n",
            " [ 37  85  41  55  73  84]\n",
            " [ 52  38  94  48  43  38]\n",
            " [ 88  82  79  87  36  36]]\n"
          ]
        }
      ]
    },
    {
      "cell_type": "markdown",
      "source": [
        "## ✅ Summary of Concepts Covered:\n",
        "\n",
        "1. Creating and exploring NumPy arrays\n",
        "\n",
        "2. Reshaping, flattening, and transposing\n",
        "\n",
        "3. Combining and splitting arrays\n",
        "\n",
        "4. Updating and removing data\n",
        "\n",
        "5. Handling different data types\n",
        "\n",
        "6. Understanding views vs copies\n",
        "\n",
        "\n",
        "\n",
        "\n",
        "\n",
        "\n"
      ],
      "metadata": {
        "id": "_hZFk-NrdyIL"
      }
    }
  ]
}